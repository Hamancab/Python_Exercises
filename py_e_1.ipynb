{
  "nbformat": 4,
  "nbformat_minor": 0,
  "metadata": {
    "colab": {
      "provenance": []
    },
    "kernelspec": {
      "name": "python3",
      "display_name": "Python 3"
    },
    "language_info": {
      "name": "python"
    }
  },
  "cells": [
    {
      "cell_type": "code",
      "execution_count": null,
      "metadata": {
        "colab": {
          "base_uri": "https://localhost:8080/"
        },
        "id": "4rnSxHBoSyxj",
        "outputId": "baf91b17-3a75-491a-ad67-e6cf7ef0131e"
      },
      "outputs": [
        {
          "output_type": "stream",
          "name": "stdout",
          "text": [
            "<class 'int'>\n",
            "<class 'float'>\n",
            "<class 'complex'>\n",
            "<class 'str'>\n",
            "<class 'bool'>\n",
            "<class 'bool'>\n",
            "<class 'list'>\n",
            "<class 'dict'>\n",
            "<class 'tuple'>\n",
            "<class 'set'>\n"
          ]
        }
      ],
      "source": [
        "x = 8\n",
        "y = 3.2\n",
        "z = 8j + 18\n",
        "a = \"Hello World\"\n",
        "b = True\n",
        "c = 23 < 22\n",
        "l = [1, 2, 3, 4,\"String\",3.2, False]\n",
        "d = {\"Name\": \"Jake\",\n",
        "     \"Age\": [27,56],\n",
        "     \"Adress\": \"Downtown\"}\n",
        "t = (\"Machine Learning\", \"Data Science\")\n",
        "s = {\"Python\", \"Machine Learning\", \"Data Science\",\"Python\"}\n",
        "\n",
        "print(type(x))\n",
        "print(type(y))\n",
        "print(type(z))\n",
        "print(type(a))\n",
        "print(type(b))\n",
        "print(type(c))\n",
        "print(type(l))\n",
        "print(type(d))\n",
        "print(type(t))\n",
        "print(type(s))"
      ]
    },
    {
      "cell_type": "code",
      "source": [
        "text = \"The goal is to turn data into information, and information into insight.\"\n",
        "text.upper().replace(\",\",\" \").replace(\".\",\" \").split()"
      ],
      "metadata": {
        "colab": {
          "base_uri": "https://localhost:8080/"
        },
        "id": "_C1FCg8VTfYo",
        "outputId": "764d1d0b-b372-442e-8b1e-5a4694fe91f1"
      },
      "execution_count": null,
      "outputs": [
        {
          "output_type": "execute_result",
          "data": {
            "text/plain": [
              "['THE',\n",
              " 'GOAL',\n",
              " 'IS',\n",
              " 'TO',\n",
              " 'TURN',\n",
              " 'DATA',\n",
              " 'INTO',\n",
              " 'INFORMATION',\n",
              " 'AND',\n",
              " 'INFORMATION',\n",
              " 'INTO',\n",
              " 'INSIGHT']"
            ]
          },
          "metadata": {},
          "execution_count": 6
        }
      ]
    },
    {
      "cell_type": "code",
      "source": [
        "lst = [\"D\",\"A\",\"T\",\"A\",\"S\",\"C\",\"I\",\"E\",\"N\",\"C\",\"E\"]\n",
        "print(len(lst))\n",
        "data_list = lst[0:4]\n",
        "print(data_list)\n",
        "lst.append(101)\n",
        "print(lst)\n",
        "print(len(lst))\n"
      ],
      "metadata": {
        "colab": {
          "base_uri": "https://localhost:8080/"
        },
        "id": "gqqZl75MTjsl",
        "outputId": "ff1c1413-afd6-4ae4-cc64-cc32b27878a1"
      },
      "execution_count": null,
      "outputs": [
        {
          "output_type": "stream",
          "name": "stdout",
          "text": [
            "11\n",
            "['D', 'A', 'T', 'A']\n",
            "['D', 'A', 'T', 'A', 'S', 'C', 'I', 'E', 'N', 'C', 'E', 101]\n",
            "12\n"
          ]
        }
      ]
    },
    {
      "cell_type": "code",
      "source": [
        "dict = {'Christian': [\"America\",18],\n",
        "        'Daisy':[\"England\",12],\n",
        "        'Antonio':[\"Spain\",22],\n",
        "        'Dante':[\"Italy\",25]}\n",
        "\n",
        "dict.update({\"Daisy\": [\"England\",13]}) # or dict[\"Daisy\"][1] = 13\n",
        "dict.update({\"Ahmet\": [\"Turkey\", 24]})\n",
        "dict.pop(\"Antonio\")\n",
        "print(dict.keys())\n",
        "print(dict.values())"
      ],
      "metadata": {
        "colab": {
          "base_uri": "https://localhost:8080/"
        },
        "id": "cUz2gl6kURDz",
        "outputId": "d9f92f14-64f6-4c8e-c847-cdfdfe1b3e9f"
      },
      "execution_count": null,
      "outputs": [
        {
          "output_type": "stream",
          "name": "stdout",
          "text": [
            "dict_keys(['Christian', 'Daisy', 'Dante', 'Ahmet'])\n",
            "dict_values([['America', 18], ['England', 13], ['Italy', 25], ['Turkey', 24]])\n"
          ]
        }
      ]
    },
    {
      "cell_type": "code",
      "source": [
        "l = [2,13,18,93,22]\n",
        "\n",
        "def func(list):\n",
        "\n",
        "    odd = []\n",
        "    even = []\n",
        "\n",
        "    for i in list:\n",
        "        if i % 2 == 0:\n",
        "            even.append(i)\n",
        "        else:\n",
        "            odd.append(i)\n",
        "\n",
        "    return even, odd\n",
        "\n",
        "\n",
        "even, odd = func(l)\n",
        "print(f\" odd list: {odd} \\n even list: {even}\")"
      ],
      "metadata": {
        "colab": {
          "base_uri": "https://localhost:8080/"
        },
        "id": "74wO2Ew7UkVj",
        "outputId": "c889f983-9049-4fc1-8aea-8dc53ba10b8f"
      },
      "execution_count": null,
      "outputs": [
        {
          "output_type": "stream",
          "name": "stdout",
          "text": [
            " odd list: [13, 93] \n",
            " even list: [2, 18, 22]\n"
          ]
        }
      ]
    },
    {
      "cell_type": "code",
      "source": [
        "students = [\"joel\",\"Ellie\",\"Tess\",\"Sully\",\"Elena\",\"Nate\"]\n",
        "for i,x in enumerate(students):\n",
        "    if i<3:\n",
        "        i += 1\n",
        "        print(\"group one\",f\"{i}.\",\"student:\",x)\n",
        "    else:\n",
        "        i -= 2\n",
        "        print(\"group two\",f\"{i}.\",\"student:\",x)"
      ],
      "metadata": {
        "colab": {
          "base_uri": "https://localhost:8080/"
        },
        "id": "wUYqRk1CVXsZ",
        "outputId": "07f3f6d4-cfd4-41ae-91c5-842fdab757c8"
      },
      "execution_count": null,
      "outputs": [
        {
          "output_type": "stream",
          "name": "stdout",
          "text": [
            "group one 1. student: joel\n",
            "group one 2. student: Ellie\n",
            "group one 3. student: Tess\n",
            "group two 1. student: Sully\n",
            "group two 2. student: Elena\n",
            "group two 3. student: Nate\n"
          ]
        }
      ]
    },
    {
      "cell_type": "code",
      "source": [
        "cluster1 = set([\"data\", \"python\"])\n",
        "cluster2 = set([\"data\", \"function\", \"qcut\", \"lambda\", \"python\", \"miuul\"])\n",
        "\n",
        "def cluster(set1,set2):\n",
        "    if set1.issuperset(set2):\n",
        "        print(set1.intersection(set2))\n",
        "    else:\n",
        "        print(set2.difference(set1))\n",
        "\n",
        "cluster(cluster1,cluster2)"
      ],
      "metadata": {
        "colab": {
          "base_uri": "https://localhost:8080/"
        },
        "id": "ttob7FDyWs03",
        "outputId": "bca0ab37-17d4-44aa-bde3-7a1df1032a6d"
      },
      "execution_count": null,
      "outputs": [
        {
          "output_type": "stream",
          "name": "stdout",
          "text": [
            "{'function', 'lambda', 'miuul', 'qcut'}\n"
          ]
        }
      ]
    },
    {
      "cell_type": "code",
      "source": [
        "lesson_code = [\"CMP1005\",\"PSY1001\",\"PHY1005\",\"CS2204\"]\n",
        "credit = [3,4,2,4]\n",
        "quota = [30,75,150,25]\n",
        "\n",
        "for lesson_code, credit, quota in zip(lesson_code, credit, quota):\n",
        "  print(f\"The quota of the course code {lesson_code}, which has {credit} credits, is {quota} people.\")"
      ],
      "metadata": {
        "colab": {
          "base_uri": "https://localhost:8080/"
        },
        "id": "I9P7ccreYSgD",
        "outputId": "09aac240-e7f5-4f7e-be27-19d55c2d6a77"
      },
      "execution_count": null,
      "outputs": [
        {
          "output_type": "stream",
          "name": "stdout",
          "text": [
            "The quota of the course code CMP1005, which has 3 credits, is 30 people.\n",
            "The quota of the course code PSY1001, which has 4 credits, is 75 people.\n",
            "The quota of the course code PHY1005, which has 2 credits, is 150 people.\n",
            "The quota of the course code CS2204, which has 4 credits, is 25 people.\n"
          ]
        }
      ]
    }
  ]
}